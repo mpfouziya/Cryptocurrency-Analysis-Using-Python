{
  "nbformat": 4,
  "nbformat_minor": 0,
  "metadata": {
    "kernelspec": {
      "display_name": "Python 3",
      "language": "python",
      "name": "python3"
    },
    "language_info": {
      "codemirror_mode": {
        "name": "ipython",
        "version": 3
      },
      "file_extension": ".py",
      "mimetype": "text/x-python",
      "name": "python",
      "nbconvert_exporter": "python",
      "pygments_lexer": "ipython3",
      "version": "3.7.3"
    },
    "colab": {
      "name": "CryptoCurrency Ratings - Proof of Concept.ipynb",
      "provenance": [],
      "collapsed_sections": []
    }
  },
  "cells": [
    {
      "cell_type": "markdown",
      "metadata": {
        "id": "LVNCyjFXVgGT"
      },
      "source": [
        "## PROOF OF CONCEPT - CRYPTOCURRENCY RATING - MULTICLASSIFICATION PROBLEM."
      ]
    },
    {
      "cell_type": "markdown",
      "metadata": {
        "id": "xdWU3CIvVpqu"
      },
      "source": [
        "The aim is to rate the cryptocurrencies in the market today based on the historical training data and their current indicator values. For this we need to have the following.\n",
        "\n",
        "1. Historical Data - The data which is labelled as A1, A2, A3, B1, B2, B3, C1, C2, C3, and D ; by the domain experts.\n",
        "2. Multiclassification model : Here, we are using a simple neural network for performing the classification (into one of the 10 categories) of the new data.\n"
      ]
    },
    {
      "cell_type": "markdown",
      "metadata": {
        "id": "PrlQRUSL9Zfu"
      },
      "source": [
        "# Importing the necessary libraries"
      ]
    },
    {
      "cell_type": "code",
      "metadata": {
        "id": "XmY6KVWmUg2l"
      },
      "source": [
        "import pandas as pd\n",
        "from matplotlib import pyplot as plt\n",
        "import numpy as np\n",
        "%matplotlib inline"
      ],
      "execution_count": 1,
      "outputs": []
    },
    {
      "cell_type": "markdown",
      "metadata": {
        "id": "HpIguoQM9c5j"
      },
      "source": [
        "# Uploading the datasets into the notebook.\n",
        "\n",
        "Here for creating the proof of concept I had took the data of three cryptocurrencies (Bitcoin, Ether and Litecoin). The data have the following values in each rows.\n",
        "\n",
        "1. Date\n",
        "2. Open\n",
        "3. High\n",
        "4. Low\n",
        "5. Close\n",
        "6. Adj Close\n",
        "7. Volume\n",
        "8. Name of the coins"
      ]
    },
    {
      "cell_type": "code",
      "metadata": {
        "id": "trGeOqvLUg2t",
        "colab": {
          "resources": {
            "http://localhost:8080/nbextensions/google.colab/files.js": {
              "data": "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",
              "ok": true,
              "headers": [
                [
                  "content-type",
                  "application/javascript"
                ]
              ],
              "status": 200,
              "status_text": ""
            }
          },
          "base_uri": "https://localhost:8080/",
          "height": 143
        },
        "outputId": "3c1c71c7-5917-46dd-b6a0-6c2e28a4879c"
      },
      "source": [
        "#Upload files\n",
        "from google.colab import files\n",
        "uploaded=files.upload()"
      ],
      "execution_count": 2,
      "outputs": [
        {
          "output_type": "display_data",
          "data": {
            "text/html": [
              "\n",
              "     <input type=\"file\" id=\"files-213bc190-a2d8-46ce-a4e3-3b56678d8b19\" name=\"files[]\" multiple disabled\n",
              "        style=\"border:none\" />\n",
              "     <output id=\"result-213bc190-a2d8-46ce-a4e3-3b56678d8b19\">\n",
              "      Upload widget is only available when the cell has been executed in the\n",
              "      current browser session. Please rerun this cell to enable.\n",
              "      </output>\n",
              "      <script src=\"/nbextensions/google.colab/files.js\"></script> "
            ],
            "text/plain": [
              "<IPython.core.display.HTML object>"
            ]
          },
          "metadata": {
            "tags": []
          }
        },
        {
          "output_type": "stream",
          "text": [
            "Saving BTC-USD.csv to BTC-USD.csv\n",
            "Saving ETH-USD.csv to ETH-USD.csv\n",
            "Saving LTC-USD.csv to LTC-USD.csv\n"
          ],
          "name": "stdout"
        }
      ]
    },
    {
      "cell_type": "code",
      "metadata": {
        "id": "oyOQD2fYUg2w"
      },
      "source": [
        "#Store the data into dataframe variable\n",
        "\n",
        "df_btc=pd.read_csv('BTC-USD.csv')\n",
        "df_eth=pd.read_csv('ETH-USD.csv')\n",
        "df_ltc=pd.read_csv('LTC-USD.csv')"
      ],
      "execution_count": 4,
      "outputs": []
    },
    {
      "cell_type": "code",
      "metadata": {
        "id": "haLXQEX8Ug2y"
      },
      "source": [
        "df_btc['Name']='BTC'\n",
        "df_eth['Name']='ETH'\n",
        "df_ltc['Name']='LTC'"
      ],
      "execution_count": 6,
      "outputs": []
    },
    {
      "cell_type": "code",
      "metadata": {
        "id": "pphjjNKKUg20",
        "colab": {
          "base_uri": "https://localhost:8080/",
          "height": 206
        },
        "outputId": "f0c85d4a-423c-431c-effa-d01de91d0c3b"
      },
      "source": [
        "df_btc.head()"
      ],
      "execution_count": 7,
      "outputs": [
        {
          "output_type": "execute_result",
          "data": {
            "text/html": [
              "<div>\n",
              "<style scoped>\n",
              "    .dataframe tbody tr th:only-of-type {\n",
              "        vertical-align: middle;\n",
              "    }\n",
              "\n",
              "    .dataframe tbody tr th {\n",
              "        vertical-align: top;\n",
              "    }\n",
              "\n",
              "    .dataframe thead th {\n",
              "        text-align: right;\n",
              "    }\n",
              "</style>\n",
              "<table border=\"1\" class=\"dataframe\">\n",
              "  <thead>\n",
              "    <tr style=\"text-align: right;\">\n",
              "      <th></th>\n",
              "      <th>Date</th>\n",
              "      <th>Open</th>\n",
              "      <th>High</th>\n",
              "      <th>Low</th>\n",
              "      <th>Close</th>\n",
              "      <th>Adj Close</th>\n",
              "      <th>Volume</th>\n",
              "      <th>Name</th>\n",
              "    </tr>\n",
              "  </thead>\n",
              "  <tbody>\n",
              "    <tr>\n",
              "      <th>0</th>\n",
              "      <td>2020-02-27</td>\n",
              "      <td>8825.093750</td>\n",
              "      <td>8932.892578</td>\n",
              "      <td>8577.199219</td>\n",
              "      <td>8784.494141</td>\n",
              "      <td>8784.494141</td>\n",
              "      <td>4.547020e+10</td>\n",
              "      <td>BTC</td>\n",
              "    </tr>\n",
              "    <tr>\n",
              "      <th>1</th>\n",
              "      <td>2020-02-28</td>\n",
              "      <td>8788.728516</td>\n",
              "      <td>8890.456055</td>\n",
              "      <td>8492.932617</td>\n",
              "      <td>8672.455078</td>\n",
              "      <td>8672.455078</td>\n",
              "      <td>4.460545e+10</td>\n",
              "      <td>BTC</td>\n",
              "    </tr>\n",
              "    <tr>\n",
              "      <th>2</th>\n",
              "      <td>2020-02-29</td>\n",
              "      <td>8671.212891</td>\n",
              "      <td>8775.631836</td>\n",
              "      <td>8599.508789</td>\n",
              "      <td>8599.508789</td>\n",
              "      <td>8599.508789</td>\n",
              "      <td>3.579239e+10</td>\n",
              "      <td>BTC</td>\n",
              "    </tr>\n",
              "    <tr>\n",
              "      <th>3</th>\n",
              "      <td>2020-03-01</td>\n",
              "      <td>8599.758789</td>\n",
              "      <td>8726.796875</td>\n",
              "      <td>8471.212891</td>\n",
              "      <td>8562.454102</td>\n",
              "      <td>8562.454102</td>\n",
              "      <td>3.534916e+10</td>\n",
              "      <td>BTC</td>\n",
              "    </tr>\n",
              "    <tr>\n",
              "      <th>4</th>\n",
              "      <td>2020-03-02</td>\n",
              "      <td>8563.264648</td>\n",
              "      <td>8921.308594</td>\n",
              "      <td>8532.630859</td>\n",
              "      <td>8869.669922</td>\n",
              "      <td>8869.669922</td>\n",
              "      <td>4.285767e+10</td>\n",
              "      <td>BTC</td>\n",
              "    </tr>\n",
              "  </tbody>\n",
              "</table>\n",
              "</div>"
            ],
            "text/plain": [
              "         Date         Open         High  ...    Adj Close        Volume  Name\n",
              "0  2020-02-27  8825.093750  8932.892578  ...  8784.494141  4.547020e+10   BTC\n",
              "1  2020-02-28  8788.728516  8890.456055  ...  8672.455078  4.460545e+10   BTC\n",
              "2  2020-02-29  8671.212891  8775.631836  ...  8599.508789  3.579239e+10   BTC\n",
              "3  2020-03-01  8599.758789  8726.796875  ...  8562.454102  3.534916e+10   BTC\n",
              "4  2020-03-02  8563.264648  8921.308594  ...  8869.669922  4.285767e+10   BTC\n",
              "\n",
              "[5 rows x 8 columns]"
            ]
          },
          "metadata": {
            "tags": []
          },
          "execution_count": 7
        }
      ]
    },
    {
      "cell_type": "markdown",
      "metadata": {
        "id": "gSWewXXH-UVN"
      },
      "source": [
        "# Concatenating the three different datasets into a single dataset."
      ]
    },
    {
      "cell_type": "code",
      "metadata": {
        "id": "gzoCxwIEy4XO"
      },
      "source": [
        "final_df = pd.concat([df_btc, df_eth, df_ltc],ignore_index=True)"
      ],
      "execution_count": 15,
      "outputs": []
    },
    {
      "cell_type": "code",
      "metadata": {
        "colab": {
          "base_uri": "https://localhost:8080/",
          "height": 206
        },
        "id": "8VVByUe-y_0G",
        "outputId": "785e9471-4e16-4fea-f6ae-1f7e8d7d355d"
      },
      "source": [
        "final_df.tail()"
      ],
      "execution_count": 16,
      "outputs": [
        {
          "output_type": "execute_result",
          "data": {
            "text/html": [
              "<div>\n",
              "<style scoped>\n",
              "    .dataframe tbody tr th:only-of-type {\n",
              "        vertical-align: middle;\n",
              "    }\n",
              "\n",
              "    .dataframe tbody tr th {\n",
              "        vertical-align: top;\n",
              "    }\n",
              "\n",
              "    .dataframe thead th {\n",
              "        text-align: right;\n",
              "    }\n",
              "</style>\n",
              "<table border=\"1\" class=\"dataframe\">\n",
              "  <thead>\n",
              "    <tr style=\"text-align: right;\">\n",
              "      <th></th>\n",
              "      <th>Date</th>\n",
              "      <th>Open</th>\n",
              "      <th>High</th>\n",
              "      <th>Low</th>\n",
              "      <th>Close</th>\n",
              "      <th>Adj Close</th>\n",
              "      <th>Volume</th>\n",
              "      <th>Name</th>\n",
              "    </tr>\n",
              "  </thead>\n",
              "  <tbody>\n",
              "    <tr>\n",
              "      <th>1096</th>\n",
              "      <td>2021-02-23</td>\n",
              "      <td>208.123413</td>\n",
              "      <td>208.369675</td>\n",
              "      <td>159.684677</td>\n",
              "      <td>176.934921</td>\n",
              "      <td>176.934921</td>\n",
              "      <td>1.094470e+10</td>\n",
              "      <td>LTC</td>\n",
              "    </tr>\n",
              "    <tr>\n",
              "      <th>1097</th>\n",
              "      <td>2021-02-24</td>\n",
              "      <td>176.966766</td>\n",
              "      <td>189.165466</td>\n",
              "      <td>169.789001</td>\n",
              "      <td>181.378494</td>\n",
              "      <td>181.378494</td>\n",
              "      <td>7.205360e+09</td>\n",
              "      <td>LTC</td>\n",
              "    </tr>\n",
              "    <tr>\n",
              "      <th>1098</th>\n",
              "      <td>2021-02-25</td>\n",
              "      <td>181.385422</td>\n",
              "      <td>204.743835</td>\n",
              "      <td>176.032150</td>\n",
              "      <td>178.901840</td>\n",
              "      <td>178.901840</td>\n",
              "      <td>7.327999e+09</td>\n",
              "      <td>LTC</td>\n",
              "    </tr>\n",
              "    <tr>\n",
              "      <th>1099</th>\n",
              "      <td>2021-02-26</td>\n",
              "      <td>179.128525</td>\n",
              "      <td>182.075851</td>\n",
              "      <td>163.248245</td>\n",
              "      <td>170.398148</td>\n",
              "      <td>170.398148</td>\n",
              "      <td>7.875998e+09</td>\n",
              "      <td>LTC</td>\n",
              "    </tr>\n",
              "    <tr>\n",
              "      <th>1100</th>\n",
              "      <td>2021-02-27</td>\n",
              "      <td>176.988800</td>\n",
              "      <td>179.882904</td>\n",
              "      <td>169.932831</td>\n",
              "      <td>172.907578</td>\n",
              "      <td>172.907578</td>\n",
              "      <td>5.623843e+09</td>\n",
              "      <td>LTC</td>\n",
              "    </tr>\n",
              "  </tbody>\n",
              "</table>\n",
              "</div>"
            ],
            "text/plain": [
              "            Date        Open        High  ...   Adj Close        Volume  Name\n",
              "1096  2021-02-23  208.123413  208.369675  ...  176.934921  1.094470e+10   LTC\n",
              "1097  2021-02-24  176.966766  189.165466  ...  181.378494  7.205360e+09   LTC\n",
              "1098  2021-02-25  181.385422  204.743835  ...  178.901840  7.327999e+09   LTC\n",
              "1099  2021-02-26  179.128525  182.075851  ...  170.398148  7.875998e+09   LTC\n",
              "1100  2021-02-27  176.988800  179.882904  ...  172.907578  5.623843e+09   LTC\n",
              "\n",
              "[5 rows x 8 columns]"
            ]
          },
          "metadata": {
            "tags": []
          },
          "execution_count": 16
        }
      ]
    },
    {
      "cell_type": "code",
      "metadata": {
        "id": "s_lo7d89Gzsr"
      },
      "source": [
        "final_df.dropna(inplace=True)"
      ],
      "execution_count": 73,
      "outputs": []
    },
    {
      "cell_type": "markdown",
      "metadata": {
        "id": "RSoBZFlc-bid"
      },
      "source": [
        "# Creating dummy ratings to rate the coins as A1, A2, A3, B1, B2, B3, C1, C2, C3, and D.\n",
        "\n"
      ]
    },
    {
      "cell_type": "code",
      "metadata": {
        "id": "lljuVXGSUg21",
        "colab": {
          "base_uri": "https://localhost:8080/"
        },
        "outputId": "21e3f223-349c-4dd1-86bd-267d32be06ac"
      },
      "source": [
        "\n",
        "rating_list = ['A1','A2','A3','B1','B2','B3','C1','C2','C3','D']\n",
        "\n",
        "\n",
        "final_df[\"Rating\"] = np.random.choice(rating_list, size=len(final_df))\n",
        "print (final_df.tail())"
      ],
      "execution_count": 74,
      "outputs": [
        {
          "output_type": "stream",
          "text": [
            "            Date        Open        High  ...        Volume  Name  Rating\n",
            "1096  2021-02-23  208.123413  208.369675  ...  1.094470e+10   LTC      B2\n",
            "1097  2021-02-24  176.966766  189.165466  ...  7.205360e+09   LTC      B1\n",
            "1098  2021-02-25  181.385422  204.743835  ...  7.327999e+09   LTC      B1\n",
            "1099  2021-02-26  179.128525  182.075851  ...  7.875998e+09   LTC      B1\n",
            "1100  2021-02-27  176.988800  179.882904  ...  5.623843e+09   LTC      B2\n",
            "\n",
            "[5 rows x 9 columns]\n"
          ],
          "name": "stdout"
        }
      ]
    },
    {
      "cell_type": "code",
      "metadata": {
        "colab": {
          "base_uri": "https://localhost:8080/"
        },
        "id": "v8De1UWI3z_c",
        "outputId": "5f2170e2-c989-47cb-b738-d50c1c2a393f"
      },
      "source": [
        "final_df.columns"
      ],
      "execution_count": 75,
      "outputs": [
        {
          "output_type": "execute_result",
          "data": {
            "text/plain": [
              "Index(['Date', 'Open', 'High', 'Low', 'Close', 'Adj Close', 'Volume', 'Name',\n",
              "       'Rating'],\n",
              "      dtype='object')"
            ]
          },
          "metadata": {
            "tags": []
          },
          "execution_count": 75
        }
      ]
    },
    {
      "cell_type": "markdown",
      "metadata": {
        "id": "7RQwSTFUJZ1Z"
      },
      "source": [
        "#Following will split the data into train and test after randomizing it."
      ]
    },
    {
      "cell_type": "code",
      "metadata": {
        "id": "t9dL9n1o4MMH"
      },
      "source": [
        "\n",
        "from sklearn.model_selection import train_test_split\n",
        "train, test = train_test_split(final_df, train_size = 0.8)"
      ],
      "execution_count": 76,
      "outputs": []
    },
    {
      "cell_type": "code",
      "metadata": {
        "colab": {
          "base_uri": "https://localhost:8080/",
          "height": 206
        },
        "id": "s1b6NiiN38MK",
        "outputId": "5605a53a-0acf-47eb-dd03-ed00f9d62cdc"
      },
      "source": [
        "train.head()"
      ],
      "execution_count": 77,
      "outputs": [
        {
          "output_type": "execute_result",
          "data": {
            "text/html": [
              "<div>\n",
              "<style scoped>\n",
              "    .dataframe tbody tr th:only-of-type {\n",
              "        vertical-align: middle;\n",
              "    }\n",
              "\n",
              "    .dataframe tbody tr th {\n",
              "        vertical-align: top;\n",
              "    }\n",
              "\n",
              "    .dataframe thead th {\n",
              "        text-align: right;\n",
              "    }\n",
              "</style>\n",
              "<table border=\"1\" class=\"dataframe\">\n",
              "  <thead>\n",
              "    <tr style=\"text-align: right;\">\n",
              "      <th></th>\n",
              "      <th>Date</th>\n",
              "      <th>Open</th>\n",
              "      <th>High</th>\n",
              "      <th>Low</th>\n",
              "      <th>Close</th>\n",
              "      <th>Adj Close</th>\n",
              "      <th>Volume</th>\n",
              "      <th>Name</th>\n",
              "      <th>Rating</th>\n",
              "    </tr>\n",
              "  </thead>\n",
              "  <tbody>\n",
              "    <tr>\n",
              "      <th>448</th>\n",
              "      <td>2020-05-18</td>\n",
              "      <td>207.179779</td>\n",
              "      <td>215.908463</td>\n",
              "      <td>207.109070</td>\n",
              "      <td>214.525055</td>\n",
              "      <td>214.525055</td>\n",
              "      <td>1.741157e+10</td>\n",
              "      <td>ETH</td>\n",
              "      <td>C3</td>\n",
              "    </tr>\n",
              "    <tr>\n",
              "      <th>979</th>\n",
              "      <td>2020-10-29</td>\n",
              "      <td>55.742558</td>\n",
              "      <td>56.304310</td>\n",
              "      <td>53.460052</td>\n",
              "      <td>54.765854</td>\n",
              "      <td>54.765854</td>\n",
              "      <td>3.010404e+09</td>\n",
              "      <td>LTC</td>\n",
              "      <td>C2</td>\n",
              "    </tr>\n",
              "    <tr>\n",
              "      <th>163</th>\n",
              "      <td>2020-08-08</td>\n",
              "      <td>11604.553711</td>\n",
              "      <td>11800.064453</td>\n",
              "      <td>11558.431641</td>\n",
              "      <td>11754.045898</td>\n",
              "      <td>11754.045898</td>\n",
              "      <td>1.757206e+10</td>\n",
              "      <td>BTC</td>\n",
              "      <td>D</td>\n",
              "    </tr>\n",
              "    <tr>\n",
              "      <th>900</th>\n",
              "      <td>2020-08-11</td>\n",
              "      <td>58.288845</td>\n",
              "      <td>59.439777</td>\n",
              "      <td>53.231251</td>\n",
              "      <td>54.386845</td>\n",
              "      <td>54.386845</td>\n",
              "      <td>2.754950e+09</td>\n",
              "      <td>LTC</td>\n",
              "      <td>B2</td>\n",
              "    </tr>\n",
              "    <tr>\n",
              "      <th>205</th>\n",
              "      <td>2020-09-19</td>\n",
              "      <td>10933.752930</td>\n",
              "      <td>11134.092773</td>\n",
              "      <td>10909.618164</td>\n",
              "      <td>11094.346680</td>\n",
              "      <td>11094.346680</td>\n",
              "      <td>2.276420e+10</td>\n",
              "      <td>BTC</td>\n",
              "      <td>C1</td>\n",
              "    </tr>\n",
              "  </tbody>\n",
              "</table>\n",
              "</div>"
            ],
            "text/plain": [
              "           Date          Open          High  ...        Volume  Name  Rating\n",
              "448  2020-05-18    207.179779    215.908463  ...  1.741157e+10   ETH      C3\n",
              "979  2020-10-29     55.742558     56.304310  ...  3.010404e+09   LTC      C2\n",
              "163  2020-08-08  11604.553711  11800.064453  ...  1.757206e+10   BTC       D\n",
              "900  2020-08-11     58.288845     59.439777  ...  2.754950e+09   LTC      B2\n",
              "205  2020-09-19  10933.752930  11134.092773  ...  2.276420e+10   BTC      C1\n",
              "\n",
              "[5 rows x 9 columns]"
            ]
          },
          "metadata": {
            "tags": []
          },
          "execution_count": 77
        }
      ]
    },
    {
      "cell_type": "code",
      "metadata": {
        "colab": {
          "base_uri": "https://localhost:8080/",
          "height": 206
        },
        "id": "eEIREjY54SGr",
        "outputId": "8cd18964-d2c4-429b-902b-1ed1487ebb0d"
      },
      "source": [
        "test.head()"
      ],
      "execution_count": 78,
      "outputs": [
        {
          "output_type": "execute_result",
          "data": {
            "text/html": [
              "<div>\n",
              "<style scoped>\n",
              "    .dataframe tbody tr th:only-of-type {\n",
              "        vertical-align: middle;\n",
              "    }\n",
              "\n",
              "    .dataframe tbody tr th {\n",
              "        vertical-align: top;\n",
              "    }\n",
              "\n",
              "    .dataframe thead th {\n",
              "        text-align: right;\n",
              "    }\n",
              "</style>\n",
              "<table border=\"1\" class=\"dataframe\">\n",
              "  <thead>\n",
              "    <tr style=\"text-align: right;\">\n",
              "      <th></th>\n",
              "      <th>Date</th>\n",
              "      <th>Open</th>\n",
              "      <th>High</th>\n",
              "      <th>Low</th>\n",
              "      <th>Close</th>\n",
              "      <th>Adj Close</th>\n",
              "      <th>Volume</th>\n",
              "      <th>Name</th>\n",
              "      <th>Rating</th>\n",
              "    </tr>\n",
              "  </thead>\n",
              "  <tbody>\n",
              "    <tr>\n",
              "      <th>932</th>\n",
              "      <td>2020-09-12</td>\n",
              "      <td>49.057728</td>\n",
              "      <td>51.221138</td>\n",
              "      <td>48.672417</td>\n",
              "      <td>50.817154</td>\n",
              "      <td>50.817154</td>\n",
              "      <td>1.588978e+09</td>\n",
              "      <td>LTC</td>\n",
              "      <td>B2</td>\n",
              "    </tr>\n",
              "    <tr>\n",
              "      <th>997</th>\n",
              "      <td>2020-11-16</td>\n",
              "      <td>62.279919</td>\n",
              "      <td>71.997322</td>\n",
              "      <td>62.171036</td>\n",
              "      <td>71.326248</td>\n",
              "      <td>71.326248</td>\n",
              "      <td>5.089779e+09</td>\n",
              "      <td>LTC</td>\n",
              "      <td>A3</td>\n",
              "    </tr>\n",
              "    <tr>\n",
              "      <th>761</th>\n",
              "      <td>2020-03-25</td>\n",
              "      <td>40.479458</td>\n",
              "      <td>40.696136</td>\n",
              "      <td>38.545746</td>\n",
              "      <td>39.151222</td>\n",
              "      <td>39.151222</td>\n",
              "      <td>3.133348e+09</td>\n",
              "      <td>LTC</td>\n",
              "      <td>C1</td>\n",
              "    </tr>\n",
              "    <tr>\n",
              "      <th>412</th>\n",
              "      <td>2020-04-12</td>\n",
              "      <td>158.232391</td>\n",
              "      <td>164.516953</td>\n",
              "      <td>156.320511</td>\n",
              "      <td>161.142426</td>\n",
              "      <td>161.142426</td>\n",
              "      <td>1.512372e+10</td>\n",
              "      <td>ETH</td>\n",
              "      <td>A3</td>\n",
              "    </tr>\n",
              "    <tr>\n",
              "      <th>547</th>\n",
              "      <td>2020-08-25</td>\n",
              "      <td>408.071686</td>\n",
              "      <td>408.527924</td>\n",
              "      <td>374.355377</td>\n",
              "      <td>384.001038</td>\n",
              "      <td>384.001038</td>\n",
              "      <td>1.242844e+10</td>\n",
              "      <td>ETH</td>\n",
              "      <td>C3</td>\n",
              "    </tr>\n",
              "  </tbody>\n",
              "</table>\n",
              "</div>"
            ],
            "text/plain": [
              "           Date        Open        High  ...        Volume  Name  Rating\n",
              "932  2020-09-12   49.057728   51.221138  ...  1.588978e+09   LTC      B2\n",
              "997  2020-11-16   62.279919   71.997322  ...  5.089779e+09   LTC      A3\n",
              "761  2020-03-25   40.479458   40.696136  ...  3.133348e+09   LTC      C1\n",
              "412  2020-04-12  158.232391  164.516953  ...  1.512372e+10   ETH      A3\n",
              "547  2020-08-25  408.071686  408.527924  ...  1.242844e+10   ETH      C3\n",
              "\n",
              "[5 rows x 9 columns]"
            ]
          },
          "metadata": {
            "tags": []
          },
          "execution_count": 78
        }
      ]
    },
    {
      "cell_type": "code",
      "metadata": {
        "id": "eNp6meJW4V48"
      },
      "source": [
        "X_train=train[['Open','High','Low','Close','Adj Close','Volume']]\n",
        "X_test=test[['Open','High','Low','Close','Adj Close','Volume']]\n",
        "Y_train=train['Rating']\n",
        "Y_test=test['Rating']"
      ],
      "execution_count": 79,
      "outputs": []
    },
    {
      "cell_type": "code",
      "metadata": {
        "colab": {
          "base_uri": "https://localhost:8080/",
          "height": 423
        },
        "id": "3p0xdnKFGZoV",
        "outputId": "7fc6605c-bd9e-487c-a2cc-32b6b220b870"
      },
      "source": [
        "X_train"
      ],
      "execution_count": 81,
      "outputs": [
        {
          "output_type": "execute_result",
          "data": {
            "text/html": [
              "<div>\n",
              "<style scoped>\n",
              "    .dataframe tbody tr th:only-of-type {\n",
              "        vertical-align: middle;\n",
              "    }\n",
              "\n",
              "    .dataframe tbody tr th {\n",
              "        vertical-align: top;\n",
              "    }\n",
              "\n",
              "    .dataframe thead th {\n",
              "        text-align: right;\n",
              "    }\n",
              "</style>\n",
              "<table border=\"1\" class=\"dataframe\">\n",
              "  <thead>\n",
              "    <tr style=\"text-align: right;\">\n",
              "      <th></th>\n",
              "      <th>Open</th>\n",
              "      <th>High</th>\n",
              "      <th>Low</th>\n",
              "      <th>Close</th>\n",
              "      <th>Adj Close</th>\n",
              "      <th>Volume</th>\n",
              "    </tr>\n",
              "  </thead>\n",
              "  <tbody>\n",
              "    <tr>\n",
              "      <th>448</th>\n",
              "      <td>207.179779</td>\n",
              "      <td>215.908463</td>\n",
              "      <td>207.109070</td>\n",
              "      <td>214.525055</td>\n",
              "      <td>214.525055</td>\n",
              "      <td>1.741157e+10</td>\n",
              "    </tr>\n",
              "    <tr>\n",
              "      <th>979</th>\n",
              "      <td>55.742558</td>\n",
              "      <td>56.304310</td>\n",
              "      <td>53.460052</td>\n",
              "      <td>54.765854</td>\n",
              "      <td>54.765854</td>\n",
              "      <td>3.010404e+09</td>\n",
              "    </tr>\n",
              "    <tr>\n",
              "      <th>163</th>\n",
              "      <td>11604.553711</td>\n",
              "      <td>11800.064453</td>\n",
              "      <td>11558.431641</td>\n",
              "      <td>11754.045898</td>\n",
              "      <td>11754.045898</td>\n",
              "      <td>1.757206e+10</td>\n",
              "    </tr>\n",
              "    <tr>\n",
              "      <th>900</th>\n",
              "      <td>58.288845</td>\n",
              "      <td>59.439777</td>\n",
              "      <td>53.231251</td>\n",
              "      <td>54.386845</td>\n",
              "      <td>54.386845</td>\n",
              "      <td>2.754950e+09</td>\n",
              "    </tr>\n",
              "    <tr>\n",
              "      <th>205</th>\n",
              "      <td>10933.752930</td>\n",
              "      <td>11134.092773</td>\n",
              "      <td>10909.618164</td>\n",
              "      <td>11094.346680</td>\n",
              "      <td>11094.346680</td>\n",
              "      <td>2.276420e+10</td>\n",
              "    </tr>\n",
              "    <tr>\n",
              "      <th>...</th>\n",
              "      <td>...</td>\n",
              "      <td>...</td>\n",
              "      <td>...</td>\n",
              "      <td>...</td>\n",
              "      <td>...</td>\n",
              "      <td>...</td>\n",
              "    </tr>\n",
              "    <tr>\n",
              "      <th>341</th>\n",
              "      <td>33533.199219</td>\n",
              "      <td>35896.882813</td>\n",
              "      <td>33489.218750</td>\n",
              "      <td>35510.289063</td>\n",
              "      <td>35510.289063</td>\n",
              "      <td>6.308859e+10</td>\n",
              "    </tr>\n",
              "    <tr>\n",
              "      <th>1053</th>\n",
              "      <td>171.094833</td>\n",
              "      <td>171.094833</td>\n",
              "      <td>114.956459</td>\n",
              "      <td>139.252228</td>\n",
              "      <td>139.252228</td>\n",
              "      <td>1.799426e+10</td>\n",
              "    </tr>\n",
              "    <tr>\n",
              "      <th>557</th>\n",
              "      <td>384.671631</td>\n",
              "      <td>402.411743</td>\n",
              "      <td>371.636688</td>\n",
              "      <td>388.241150</td>\n",
              "      <td>388.241150</td>\n",
              "      <td>1.674711e+10</td>\n",
              "    </tr>\n",
              "    <tr>\n",
              "      <th>771</th>\n",
              "      <td>40.344578</td>\n",
              "      <td>40.833725</td>\n",
              "      <td>39.964409</td>\n",
              "      <td>40.675556</td>\n",
              "      <td>40.675556</td>\n",
              "      <td>3.229458e+09</td>\n",
              "    </tr>\n",
              "    <tr>\n",
              "      <th>721</th>\n",
              "      <td>1804.676758</td>\n",
              "      <td>1833.830566</td>\n",
              "      <td>1683.906616</td>\n",
              "      <td>1779.791016</td>\n",
              "      <td>1779.791016</td>\n",
              "      <td>3.895561e+10</td>\n",
              "    </tr>\n",
              "  </tbody>\n",
              "</table>\n",
              "<p>871 rows × 6 columns</p>\n",
              "</div>"
            ],
            "text/plain": [
              "              Open          High  ...     Adj Close        Volume\n",
              "448     207.179779    215.908463  ...    214.525055  1.741157e+10\n",
              "979      55.742558     56.304310  ...     54.765854  3.010404e+09\n",
              "163   11604.553711  11800.064453  ...  11754.045898  1.757206e+10\n",
              "900      58.288845     59.439777  ...     54.386845  2.754950e+09\n",
              "205   10933.752930  11134.092773  ...  11094.346680  2.276420e+10\n",
              "...            ...           ...  ...           ...           ...\n",
              "341   33533.199219  35896.882813  ...  35510.289063  6.308859e+10\n",
              "1053    171.094833    171.094833  ...    139.252228  1.799426e+10\n",
              "557     384.671631    402.411743  ...    388.241150  1.674711e+10\n",
              "771      40.344578     40.833725  ...     40.675556  3.229458e+09\n",
              "721    1804.676758   1833.830566  ...   1779.791016  3.895561e+10\n",
              "\n",
              "[871 rows x 6 columns]"
            ]
          },
          "metadata": {
            "tags": []
          },
          "execution_count": 81
        }
      ]
    },
    {
      "cell_type": "markdown",
      "metadata": {
        "id": "Z6AyRCSjICBk"
      },
      "source": [
        "\n",
        "#Scale the train and test data with Min Max Scaler, so that the data have values between 0 and 100"
      ]
    },
    {
      "cell_type": "code",
      "metadata": {
        "id": "zehPGmaBF0q3"
      },
      "source": [
        "from sklearn import preprocessing\n",
        "min_max_scaler=preprocessing.MinMaxScaler(feature_range=(0,100))\n",
        "scaled_x_train=min_max_scaler.fit_transform(X_train)\n",
        "scaled_x_test=min_max_scaler.transform(X_test)"
      ],
      "execution_count": 80,
      "outputs": []
    },
    {
      "cell_type": "code",
      "metadata": {
        "colab": {
          "base_uri": "https://localhost:8080/"
        },
        "id": "XIlTaSwtGVzq",
        "outputId": "5d63f5d2-12e7-4778-f2d9-273eaa4122d8"
      },
      "source": [
        "scaled_x_train"
      ],
      "execution_count": 82,
      "outputs": [
        {
          "output_type": "execute_result",
          "data": {
            "text/plain": [
              "array([[3.14387814e-01, 3.11801956e-01, 3.26227553e-01, 3.19244163e-01,\n",
              "        3.19244163e-01, 4.69987362e+00],\n",
              "       [4.41454699e-02, 3.80216413e-02, 5.01139843e-02, 4.14456259e-02,\n",
              "        4.14456259e-02, 5.85328922e-01],\n",
              "       [2.06531990e+01, 2.01829257e+01, 2.07250185e+01, 2.03848303e+01,\n",
              "        2.03848303e+01, 4.74572735e+00],\n",
              "       ...,\n",
              "       [6.31125099e-01, 6.31724250e-01, 6.21890412e-01, 6.21311755e-01,\n",
              "        6.21311755e-01, 4.51003109e+00],\n",
              "       [1.66675078e-02, 1.14838505e-02, 2.58617619e-02, 1.69446009e-02,\n",
              "        1.69446009e-02, 6.47914457e-01],\n",
              "       [3.16514885e+00, 3.08713840e+00, 2.98009314e+00, 3.04101913e+00,\n",
              "        3.04101913e+00, 1.08552053e+01]])"
            ]
          },
          "metadata": {
            "tags": []
          },
          "execution_count": 82
        }
      ]
    },
    {
      "cell_type": "markdown",
      "metadata": {
        "id": "y1Nk40uvIUDQ"
      },
      "source": [
        "# Encode the labels (A1, A2, A3...) which is in string, into numbers ; so that the algorithm can understand"
      ]
    },
    {
      "cell_type": "code",
      "metadata": {
        "id": "YRPRCPJPAB85"
      },
      "source": [
        "\n",
        "from keras.utils import np_utils\n",
        "from sklearn.preprocessing import LabelEncoder"
      ],
      "execution_count": 85,
      "outputs": []
    },
    {
      "cell_type": "code",
      "metadata": {
        "id": "x53kvAul_77E"
      },
      "source": [
        "# encode class values as integers\n",
        "encoder = LabelEncoder()\n",
        "encoder.fit(Y_train)\n",
        "encoded_Y = encoder.transform(Y_train)\n",
        "# convert integers to dummy variables (i.e. one hot encoded)\n",
        "dummy_y = np_utils.to_categorical(encoded_Y)"
      ],
      "execution_count": 83,
      "outputs": []
    },
    {
      "cell_type": "code",
      "metadata": {
        "colab": {
          "base_uri": "https://localhost:8080/"
        },
        "id": "xf3_OY7s7p3r",
        "outputId": "600246ce-49ca-460f-b049-c75927ffa1c2"
      },
      "source": [
        "dummy_y"
      ],
      "execution_count": 84,
      "outputs": [
        {
          "output_type": "execute_result",
          "data": {
            "text/plain": [
              "array([[0., 0., 0., ..., 0., 1., 0.],\n",
              "       [0., 0., 0., ..., 1., 0., 0.],\n",
              "       [0., 0., 0., ..., 0., 0., 1.],\n",
              "       ...,\n",
              "       [0., 0., 0., ..., 0., 0., 0.],\n",
              "       [0., 0., 0., ..., 0., 0., 0.],\n",
              "       [0., 0., 0., ..., 0., 1., 0.]], dtype=float32)"
            ]
          },
          "metadata": {
            "tags": []
          },
          "execution_count": 84
        }
      ]
    },
    {
      "cell_type": "markdown",
      "metadata": {
        "id": "f-s1o-QiIkoa"
      },
      "source": [
        "# Create the Neural Network Model and fit it on the preprocessed training data"
      ]
    },
    {
      "cell_type": "code",
      "metadata": {
        "id": "Chz4nxn_Ug22",
        "colab": {
          "base_uri": "https://localhost:8080/"
        },
        "outputId": "82d7b47c-8593-4ed8-d53b-156da0367a09"
      },
      "source": [
        "import tensorflow as tf\n",
        "from tensorflow import keras\n",
        "\n",
        "\n",
        "model = keras.Sequential([\n",
        "    keras.layers.Dense(20, input_shape=(6,), activation='relu'),\n",
        "    keras.layers.Dropout(0.3),\n",
        "    keras.layers.Dense(15, activation='relu'),\n",
        "    keras.layers.Dense(10, activation='softmax')\n",
        "])\n",
        "\n",
        "\n",
        "model.compile(optimizer='adam',\n",
        "              loss='categorical_crossentropy',\n",
        "              metrics=['accuracy'])\n",
        "\n",
        "model.fit(scaled_x_train, dummy_y, epochs=100,batch_size=5)"
      ],
      "execution_count": 89,
      "outputs": [
        {
          "output_type": "stream",
          "text": [
            "Epoch 1/100\n",
            "175/175 [==============================] - 1s 1ms/step - loss: 3.8144 - accuracy: 0.1194\n",
            "Epoch 2/100\n",
            "175/175 [==============================] - 0s 1ms/step - loss: 2.6672 - accuracy: 0.0999\n",
            "Epoch 3/100\n",
            "175/175 [==============================] - 0s 966us/step - loss: 2.4771 - accuracy: 0.1045\n",
            "Epoch 4/100\n",
            "175/175 [==============================] - 0s 979us/step - loss: 2.4091 - accuracy: 0.1263\n",
            "Epoch 5/100\n",
            "175/175 [==============================] - 0s 1ms/step - loss: 2.3446 - accuracy: 0.1091\n",
            "Epoch 6/100\n",
            "175/175 [==============================] - 0s 972us/step - loss: 2.3541 - accuracy: 0.1228\n",
            "Epoch 7/100\n",
            "175/175 [==============================] - 0s 1ms/step - loss: 2.3449 - accuracy: 0.1217\n",
            "Epoch 8/100\n",
            "175/175 [==============================] - 0s 1ms/step - loss: 2.3312 - accuracy: 0.1251\n",
            "Epoch 9/100\n",
            "175/175 [==============================] - 0s 1ms/step - loss: 2.3489 - accuracy: 0.1102\n",
            "Epoch 10/100\n",
            "175/175 [==============================] - 0s 1ms/step - loss: 2.3068 - accuracy: 0.1160\n",
            "Epoch 11/100\n",
            "175/175 [==============================] - 0s 964us/step - loss: 2.3033 - accuracy: 0.1206\n",
            "Epoch 12/100\n",
            "175/175 [==============================] - 0s 1ms/step - loss: 2.3092 - accuracy: 0.1160\n",
            "Epoch 13/100\n",
            "175/175 [==============================] - 0s 1ms/step - loss: 2.3025 - accuracy: 0.1251\n",
            "Epoch 14/100\n",
            "175/175 [==============================] - 0s 1ms/step - loss: 2.3101 - accuracy: 0.1286\n",
            "Epoch 15/100\n",
            "175/175 [==============================] - 0s 989us/step - loss: 2.2943 - accuracy: 0.1263\n",
            "Epoch 16/100\n",
            "175/175 [==============================] - 0s 1ms/step - loss: 2.2965 - accuracy: 0.1274\n",
            "Epoch 17/100\n",
            "175/175 [==============================] - 0s 1ms/step - loss: 2.3023 - accuracy: 0.1251\n",
            "Epoch 18/100\n",
            "175/175 [==============================] - 0s 1ms/step - loss: 2.3053 - accuracy: 0.1183\n",
            "Epoch 19/100\n",
            "175/175 [==============================] - 0s 1ms/step - loss: 2.2898 - accuracy: 0.1263\n",
            "Epoch 20/100\n",
            "175/175 [==============================] - 0s 1ms/step - loss: 2.2998 - accuracy: 0.1217\n",
            "Epoch 21/100\n",
            "175/175 [==============================] - 0s 1ms/step - loss: 2.2985 - accuracy: 0.1183\n",
            "Epoch 22/100\n",
            "175/175 [==============================] - 0s 1ms/step - loss: 2.3026 - accuracy: 0.1240\n",
            "Epoch 23/100\n",
            "175/175 [==============================] - 0s 998us/step - loss: 2.2903 - accuracy: 0.1297\n",
            "Epoch 24/100\n",
            "175/175 [==============================] - 0s 1ms/step - loss: 2.2995 - accuracy: 0.1148\n",
            "Epoch 25/100\n",
            "175/175 [==============================] - 0s 983us/step - loss: 2.2937 - accuracy: 0.1228\n",
            "Epoch 26/100\n",
            "175/175 [==============================] - 0s 961us/step - loss: 2.2934 - accuracy: 0.1297\n",
            "Epoch 27/100\n",
            "175/175 [==============================] - 0s 1ms/step - loss: 2.2913 - accuracy: 0.1274\n",
            "Epoch 28/100\n",
            "175/175 [==============================] - 0s 1ms/step - loss: 2.2969 - accuracy: 0.1206\n",
            "Epoch 29/100\n",
            "175/175 [==============================] - 0s 1ms/step - loss: 2.2931 - accuracy: 0.1194\n",
            "Epoch 30/100\n",
            "175/175 [==============================] - 0s 1ms/step - loss: 2.2917 - accuracy: 0.1343\n",
            "Epoch 31/100\n",
            "175/175 [==============================] - 0s 1ms/step - loss: 2.2967 - accuracy: 0.1263\n",
            "Epoch 32/100\n",
            "175/175 [==============================] - 0s 1ms/step - loss: 2.2939 - accuracy: 0.1183\n",
            "Epoch 33/100\n",
            "175/175 [==============================] - 0s 1ms/step - loss: 2.2896 - accuracy: 0.1274\n",
            "Epoch 34/100\n",
            "175/175 [==============================] - 0s 1ms/step - loss: 2.2911 - accuracy: 0.1183\n",
            "Epoch 35/100\n",
            "175/175 [==============================] - 0s 1ms/step - loss: 2.2924 - accuracy: 0.1206\n",
            "Epoch 36/100\n",
            "175/175 [==============================] - 0s 1ms/step - loss: 2.2963 - accuracy: 0.1228\n",
            "Epoch 37/100\n",
            "175/175 [==============================] - 0s 1ms/step - loss: 2.2904 - accuracy: 0.1194\n",
            "Epoch 38/100\n",
            "175/175 [==============================] - 0s 1ms/step - loss: 2.2920 - accuracy: 0.1309\n",
            "Epoch 39/100\n",
            "175/175 [==============================] - 0s 1ms/step - loss: 2.2875 - accuracy: 0.1320\n",
            "Epoch 40/100\n",
            "175/175 [==============================] - 0s 1ms/step - loss: 2.2943 - accuracy: 0.1206\n",
            "Epoch 41/100\n",
            "175/175 [==============================] - 0s 986us/step - loss: 2.2909 - accuracy: 0.1228\n",
            "Epoch 42/100\n",
            "175/175 [==============================] - 0s 1ms/step - loss: 2.2891 - accuracy: 0.1286\n",
            "Epoch 43/100\n",
            "175/175 [==============================] - 0s 999us/step - loss: 2.2848 - accuracy: 0.1263\n",
            "Epoch 44/100\n",
            "175/175 [==============================] - 0s 1ms/step - loss: 2.2917 - accuracy: 0.1217\n",
            "Epoch 45/100\n",
            "175/175 [==============================] - 0s 1ms/step - loss: 2.2937 - accuracy: 0.1274\n",
            "Epoch 46/100\n",
            "175/175 [==============================] - 0s 972us/step - loss: 2.2930 - accuracy: 0.1194\n",
            "Epoch 47/100\n",
            "175/175 [==============================] - 0s 990us/step - loss: 2.2885 - accuracy: 0.1274\n",
            "Epoch 48/100\n",
            "175/175 [==============================] - 0s 1ms/step - loss: 2.2908 - accuracy: 0.1171\n",
            "Epoch 49/100\n",
            "175/175 [==============================] - 0s 1ms/step - loss: 2.2886 - accuracy: 0.1194\n",
            "Epoch 50/100\n",
            "175/175 [==============================] - 0s 1ms/step - loss: 2.2872 - accuracy: 0.1263\n",
            "Epoch 51/100\n",
            "175/175 [==============================] - 0s 1ms/step - loss: 2.2848 - accuracy: 0.1263\n",
            "Epoch 52/100\n",
            "175/175 [==============================] - 0s 933us/step - loss: 2.2889 - accuracy: 0.1240\n",
            "Epoch 53/100\n",
            "175/175 [==============================] - 0s 947us/step - loss: 2.2911 - accuracy: 0.1251\n",
            "Epoch 54/100\n",
            "175/175 [==============================] - 0s 1ms/step - loss: 2.2872 - accuracy: 0.1320\n",
            "Epoch 55/100\n",
            "175/175 [==============================] - 0s 960us/step - loss: 2.2863 - accuracy: 0.1251\n",
            "Epoch 56/100\n",
            "175/175 [==============================] - 0s 1ms/step - loss: 2.2884 - accuracy: 0.1228\n",
            "Epoch 57/100\n",
            "175/175 [==============================] - 0s 1ms/step - loss: 2.2835 - accuracy: 0.1274\n",
            "Epoch 58/100\n",
            "175/175 [==============================] - 0s 1ms/step - loss: 2.2844 - accuracy: 0.1194\n",
            "Epoch 59/100\n",
            "175/175 [==============================] - 0s 1ms/step - loss: 2.2842 - accuracy: 0.1217\n",
            "Epoch 60/100\n",
            "175/175 [==============================] - 0s 1ms/step - loss: 2.2865 - accuracy: 0.1355\n",
            "Epoch 61/100\n",
            "175/175 [==============================] - 0s 1ms/step - loss: 2.2866 - accuracy: 0.1171\n",
            "Epoch 62/100\n",
            "175/175 [==============================] - 0s 1ms/step - loss: 2.2862 - accuracy: 0.1251\n",
            "Epoch 63/100\n",
            "175/175 [==============================] - 0s 1ms/step - loss: 2.2845 - accuracy: 0.1297\n",
            "Epoch 64/100\n",
            "175/175 [==============================] - 0s 1ms/step - loss: 2.2817 - accuracy: 0.1309\n",
            "Epoch 65/100\n",
            "175/175 [==============================] - 0s 1ms/step - loss: 2.2894 - accuracy: 0.1286\n",
            "Epoch 66/100\n",
            "175/175 [==============================] - 0s 1ms/step - loss: 2.2832 - accuracy: 0.1251\n",
            "Epoch 67/100\n",
            "175/175 [==============================] - 0s 1ms/step - loss: 2.2903 - accuracy: 0.1309\n",
            "Epoch 68/100\n",
            "175/175 [==============================] - 0s 998us/step - loss: 2.2914 - accuracy: 0.1297\n",
            "Epoch 69/100\n",
            "175/175 [==============================] - 0s 998us/step - loss: 2.2830 - accuracy: 0.1297\n",
            "Epoch 70/100\n",
            "175/175 [==============================] - 0s 1ms/step - loss: 2.2861 - accuracy: 0.1378\n",
            "Epoch 71/100\n",
            "175/175 [==============================] - 0s 988us/step - loss: 2.2843 - accuracy: 0.1263\n",
            "Epoch 72/100\n",
            "175/175 [==============================] - 0s 1ms/step - loss: 2.2843 - accuracy: 0.1228\n",
            "Epoch 73/100\n",
            "175/175 [==============================] - 0s 1ms/step - loss: 2.2844 - accuracy: 0.1274\n",
            "Epoch 74/100\n",
            "175/175 [==============================] - 0s 977us/step - loss: 2.2824 - accuracy: 0.1251\n",
            "Epoch 75/100\n",
            "175/175 [==============================] - 0s 999us/step - loss: 2.2847 - accuracy: 0.1320\n",
            "Epoch 76/100\n",
            "175/175 [==============================] - 0s 1ms/step - loss: 2.2798 - accuracy: 0.1251\n",
            "Epoch 77/100\n",
            "175/175 [==============================] - 0s 1ms/step - loss: 2.2785 - accuracy: 0.1412\n",
            "Epoch 78/100\n",
            "175/175 [==============================] - 0s 1ms/step - loss: 2.2909 - accuracy: 0.1251\n",
            "Epoch 79/100\n",
            "175/175 [==============================] - 0s 949us/step - loss: 2.2833 - accuracy: 0.1274\n",
            "Epoch 80/100\n",
            "175/175 [==============================] - 0s 972us/step - loss: 2.2845 - accuracy: 0.1320\n",
            "Epoch 81/100\n",
            "175/175 [==============================] - 0s 1ms/step - loss: 2.2876 - accuracy: 0.1309\n",
            "Epoch 82/100\n",
            "175/175 [==============================] - 0s 984us/step - loss: 2.2859 - accuracy: 0.1286\n",
            "Epoch 83/100\n",
            "175/175 [==============================] - 0s 1ms/step - loss: 2.2853 - accuracy: 0.1263\n",
            "Epoch 84/100\n",
            "175/175 [==============================] - 0s 1ms/step - loss: 2.2839 - accuracy: 0.1274\n",
            "Epoch 85/100\n",
            "175/175 [==============================] - 0s 1ms/step - loss: 2.2864 - accuracy: 0.1286\n",
            "Epoch 86/100\n",
            "175/175 [==============================] - 0s 1ms/step - loss: 2.2864 - accuracy: 0.1332\n",
            "Epoch 87/100\n",
            "175/175 [==============================] - 0s 1ms/step - loss: 2.2850 - accuracy: 0.1378\n",
            "Epoch 88/100\n",
            "175/175 [==============================] - 0s 1ms/step - loss: 2.2827 - accuracy: 0.1228\n",
            "Epoch 89/100\n",
            "175/175 [==============================] - 0s 1ms/step - loss: 2.2821 - accuracy: 0.1389\n",
            "Epoch 90/100\n",
            "175/175 [==============================] - 0s 1ms/step - loss: 2.2849 - accuracy: 0.1286\n",
            "Epoch 91/100\n",
            "175/175 [==============================] - 0s 991us/step - loss: 2.2822 - accuracy: 0.1217\n",
            "Epoch 92/100\n",
            "175/175 [==============================] - 0s 1ms/step - loss: 2.2822 - accuracy: 0.1251\n",
            "Epoch 93/100\n",
            "175/175 [==============================] - 0s 1ms/step - loss: 2.2787 - accuracy: 0.1320\n",
            "Epoch 94/100\n",
            "175/175 [==============================] - 0s 1ms/step - loss: 2.2871 - accuracy: 0.1183\n",
            "Epoch 95/100\n",
            "175/175 [==============================] - 0s 1ms/step - loss: 2.2817 - accuracy: 0.1343\n",
            "Epoch 96/100\n",
            "175/175 [==============================] - 0s 1ms/step - loss: 2.2841 - accuracy: 0.1274\n",
            "Epoch 97/100\n",
            "175/175 [==============================] - 0s 1ms/step - loss: 2.2831 - accuracy: 0.1320\n",
            "Epoch 98/100\n",
            "175/175 [==============================] - 0s 1ms/step - loss: 2.2844 - accuracy: 0.1240\n",
            "Epoch 99/100\n",
            "175/175 [==============================] - 0s 1ms/step - loss: 2.2821 - accuracy: 0.1320\n",
            "Epoch 100/100\n",
            "175/175 [==============================] - 0s 1ms/step - loss: 2.2805 - accuracy: 0.1332\n"
          ],
          "name": "stdout"
        },
        {
          "output_type": "execute_result",
          "data": {
            "text/plain": [
              "<tensorflow.python.keras.callbacks.History at 0x7f96d5bfb0d0>"
            ]
          },
          "metadata": {
            "tags": []
          },
          "execution_count": 89
        }
      ]
    },
    {
      "cell_type": "markdown",
      "metadata": {
        "id": "eScPzBv5I-z1"
      },
      "source": [
        "# Do the testing on the test data to understand the model performance."
      ]
    },
    {
      "cell_type": "code",
      "metadata": {
        "id": "EK-DQ4bsHQst"
      },
      "source": [
        "yp = model.predict(X_test)"
      ],
      "execution_count": 102,
      "outputs": []
    },
    {
      "cell_type": "markdown",
      "metadata": {
        "id": "r7rQLbhiO10R"
      },
      "source": [
        "Lets investigate the prediction for the row 1. From the following we can see that it is predicted as [0. 0. 0. 1. 0. 0. 0. 0. 0. 0.] (ie. B1). But in actual it is B2."
      ]
    },
    {
      "cell_type": "code",
      "metadata": {
        "colab": {
          "base_uri": "https://localhost:8080/"
        },
        "id": "KQdUH5u8OM2j",
        "outputId": "39afda65-4f79-4e7e-9afd-1528badd9713"
      },
      "source": [
        "print(yp[0])"
      ],
      "execution_count": 104,
      "outputs": [
        {
          "output_type": "stream",
          "text": [
            "[0. 0. 0. 1. 0. 0. 0. 0. 0. 0.]\n"
          ],
          "name": "stdout"
        }
      ]
    },
    {
      "cell_type": "markdown",
      "metadata": {
        "id": "xHV8EfAcPmJl"
      },
      "source": [
        "Seeing what is the actual rating in the data"
      ]
    },
    {
      "cell_type": "code",
      "metadata": {
        "colab": {
          "base_uri": "https://localhost:8080/",
          "height": 35
        },
        "id": "2PHuBSwnPPHq",
        "outputId": "4e981385-2518-4e72-c363-be5332b0e203"
      },
      "source": [
        "Y_test.iloc[0]"
      ],
      "execution_count": 108,
      "outputs": [
        {
          "output_type": "execute_result",
          "data": {
            "application/vnd.google.colaboratory.intrinsic+json": {
              "type": "string"
            },
            "text/plain": [
              "'B2'"
            ]
          },
          "metadata": {
            "tags": []
          },
          "execution_count": 108
        }
      ]
    },
    {
      "cell_type": "markdown",
      "metadata": {
        "id": "0LHwFGBxMbWi"
      },
      "source": [
        "As we had used dummy data, which is not accurate; the resultant accuracy is really poor. When we have the right data labelled by domain experts, we can train our model more efficiently."
      ]
    },
    {
      "cell_type": "markdown",
      "metadata": {
        "id": "_6PVW2jQJuLm"
      },
      "source": [
        "Here we had developed the model using only limited features like Open, Close, Volume, High ,Low,Adj Close. We can use other indicators as following:\n",
        "\n",
        "* Exchange Trading Information : Returns, Capitalization, Relative Price Change, Parkinson's Volatility.\n",
        "* Blockchain Information : Median Value, No. of Transactions, New Coins, Total Fees, Median Fees, Active Addresses, Average difficulty, No. of blocks, Block size, No. of payments "
      ]
    }
  ]
}